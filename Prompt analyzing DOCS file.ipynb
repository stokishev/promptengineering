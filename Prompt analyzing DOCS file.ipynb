{
 "cells": [
  {
   "cell_type": "code",
   "execution_count": null,
   "id": "1efb29a6-b045-42b5-9f7d-c15caec87bba",
   "metadata": {},
   "outputs": [],
   "source": [
    "#pip install python-docx"
   ]
  },
  {
   "cell_type": "code",
   "execution_count": null,
   "id": "fa1e76bd",
   "metadata": {
    "tags": []
   },
   "outputs": [],
   "source": [
    "import docx\n",
    "from openai import OpenAI"
   ]
  },
  {
   "cell_type": "code",
   "execution_count": null,
   "id": "5531c6ca",
   "metadata": {
    "tags": []
   },
   "outputs": [],
   "source": [
    "def getText(filename):\n",
    "    doc = docx.Document(filename)\n",
    "    fullText = []\n",
    "    for para in doc.paragraphs:\n",
    "        fullText.append(para.text)\n",
    "    return '\\n'.join(fullText)\n",
    "\n",
    "def save_text_to_txt(text, filename):\n",
    "    with open(filename, 'w') as file:\n",
    "        file.write(text)"
   ]
  },
  {
   "cell_type": "code",
   "execution_count": null,
   "id": "a75c3bcf",
   "metadata": {
    "tags": []
   },
   "outputs": [],
   "source": [
    "client = OpenAI(api_key = '')\n",
    "\n",
    "def get_completion(prompt, client_instance, model=\"gpt-3.5-turbo\"):\n",
    "    messages = [{\"role\": \"system\", \"content\": 'You are a FAQs generator'},\n",
    "                {\"role\": \"user\", \"content\": prompt_first} \n",
    "               ]\n",
    "    response = client_instance.chat.completions.create(\n",
    "    model=model,\n",
    "    messages=messages,\n",
    "    #max_tokens=4096,\n",
    "    temperature=0,\n",
    ")\n",
    "    return response.choices[0].message.content\n",
    "\n",
    "prompt_first = f\"\"\"\n",
    "Can you generate as much FAQs as possible for this passage, each FAQs should follow the below format,\n",
    "Question: \\\n",
    "Answer: \\\n",
    "Extact text that you derived answer from: \\\n",
    "return NAN if you cannot generate FAQs for the content. \\\n",
    "Here is the passage: {passage}\n",
    "\"\"\"\n",
    "input_text = input(\"Enter the filepath: \")\n",
    "passage = getText(input_text)\n",
    "response_first = get_completion(prompt_first, client)\n",
    "print(response_first)\n",
    "filename = \"output.txt\"\n",
    "save_text_to_txt(response_first, filename)"
   ]
  }
 ],
 "metadata": {
  "kernelspec": {
   "display_name": "Python 3 (ipykernel)",
   "language": "python",
   "name": "python3"
  },
  "language_info": {
   "codemirror_mode": {
    "name": "ipython",
    "version": 3
   },
   "file_extension": ".py",
   "mimetype": "text/x-python",
   "name": "python",
   "nbconvert_exporter": "python",
   "pygments_lexer": "ipython3",
   "version": "3.9.12"
  }
 },
 "nbformat": 4,
 "nbformat_minor": 5
}
